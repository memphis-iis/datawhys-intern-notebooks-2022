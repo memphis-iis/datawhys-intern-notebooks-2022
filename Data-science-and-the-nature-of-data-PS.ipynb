{
 "cells": [
  {
   "cell_type": "markdown",
   "metadata": {
    "deletable": false,
    "editable": false
   },
   "source": [
    "Copyright 2020 Andrew M. Olney and made available under [CC BY-SA](https://creativecommons.org/licenses/by-sa/4.0) for text and [Apache-2.0](http://www.apache.org/licenses/LICENSE-2.0) for code."
   ]
  },
  {
   "cell_type": "markdown",
   "metadata": {},
   "source": [
    "# Data Science and the Nature of Data: Problem Solving\n",
    "\n",
    "This notebook is a companion to [Data Science and the Nature of Data](Data-science-and-the-nature-of-data.ipynb) so please read that first.\n",
    "\n",
    "## Problem\n",
    "\n",
    "We will be working with [a set of flower images](https://drive.google.com/file/d/16OFwIazU-dnu27kzP08iuZvk_lnBK9Ak/view?usp=sharing).\n",
    "As discussed in the last notebook, this is *unstructured data*.\n",
    "\n",
    "A previous group has manually coded these data with three variables:\n",
    "\n",
    "- PetalColor: unicolor or multicolor\n",
    "- PetalShape: rounded or unrounded\n",
    "- Size: small, medium, or large\n",
    "\n",
    "In this session, you will load the data into a dataframe in Jupyter manipulate rows and columns of the data.\n",
    "\n",
    "## Load the data into a dataframe \n",
    "\n",
    "Use [Data Science and the Nature of Data](Data-science-and-the-nature-of-data.ipynb) or the [Reference](Reference.ipynb) if you've forgotten any of these steps.\n",
    "\n",
    "Import the `pandas` library, which lets us work with dataframes:\n",
    "\n",
    "- `import pandas as pd`"
   ]
  },
  {
   "cell_type": "code",
   "execution_count": 3,
   "metadata": {},
   "outputs": [],
   "source": []
  },
  {
   "cell_type": "markdown",
   "metadata": {},
   "source": [
    "Load a dataframe with the data in \"datasets/flowers.csv\" and display it:\n",
    "\n",
    "- Set `dataframe` to `with pd do read_csv using \"datasets/flowers.csv\"`\n",
    "- `dataframe` (to display)"
   ]
  },
  {
   "cell_type": "code",
   "execution_count": 4,
   "metadata": {},
   "outputs": [],
   "source": []
  },
  {
   "cell_type": "markdown",
   "metadata": {},
   "source": [
    "**QUESTION:**\n",
    "\n",
    "What are the variable types for each variable?\n",
    "\n",
    "**ANSWER: (click here to edit)**\n",
    "\n",
    "\n",
    "<hr>"
   ]
  },
  {
   "cell_type": "markdown",
   "metadata": {},
   "source": [
    "Select the first 10 rows of the data:"
   ]
  },
  {
   "cell_type": "markdown",
   "metadata": {},
   "source": [
    "- `in list dataframe get sub-list from first to 10`"
   ]
  },
  {
   "cell_type": "code",
   "execution_count": 5,
   "metadata": {},
   "outputs": [],
   "source": []
  },
  {
   "cell_type": "markdown",
   "metadata": {},
   "source": [
    "Select the last 10 rows of the data:"
   ]
  },
  {
   "cell_type": "markdown",
   "metadata": {},
   "source": [
    "- `in list dataframe get sub-list from # from end 10 to last`"
   ]
  },
  {
   "cell_type": "code",
   "execution_count": 6,
   "metadata": {},
   "outputs": [],
   "source": []
  },
  {
   "cell_type": "markdown",
   "metadata": {},
   "source": [
    "Select the middle 10 rows of the data:"
   ]
  },
  {
   "cell_type": "markdown",
   "metadata": {},
   "source": [
    "- `in list dataframe get sub-list from # 95 to # 105`"
   ]
  },
  {
   "cell_type": "code",
   "execution_count": 7,
   "metadata": {},
   "outputs": [],
   "source": []
  },
  {
   "cell_type": "markdown",
   "metadata": {},
   "source": [
    "Select the first two columns of the data:"
   ]
  },
  {
   "cell_type": "markdown",
   "metadata": {},
   "source": [
    "- `dataframe[` using a list containing `\"PetalColor\"` and `\"PetalShape\"` `]`"
   ]
  },
  {
   "cell_type": "code",
   "execution_count": 8,
   "metadata": {},
   "outputs": [],
   "source": []
  },
  {
   "cell_type": "markdown",
   "metadata": {},
   "source": [
    "Select the last two columns of the data:"
   ]
  },
  {
   "cell_type": "markdown",
   "metadata": {},
   "source": [
    "- `dataframe[` using a list containing `\"PetalShape\"` and `\"Size\"` `]`"
   ]
  },
  {
   "cell_type": "code",
   "execution_count": 9,
   "metadata": {},
   "outputs": [],
   "source": []
  },
  {
   "cell_type": "markdown",
   "metadata": {},
   "source": [
    "Select the middle column of the data:"
   ]
  },
  {
   "cell_type": "markdown",
   "metadata": {},
   "source": [
    "- `dataframe[` using a list containing `\"PetalShape\"` `]`"
   ]
  },
  {
   "cell_type": "code",
   "execution_count": 10,
   "metadata": {},
   "outputs": [],
   "source": []
  },
  {
   "cell_type": "markdown",
   "metadata": {},
   "source": [
    "Get the data types\n",
    "\n",
    "- `from dataframe get dtypes`"
   ]
  },
  {
   "cell_type": "code",
   "execution_count": 11,
   "metadata": {},
   "outputs": [],
   "source": []
  },
  {
   "cell_type": "markdown",
   "metadata": {},
   "source": [
    "**QUESTION:**\n",
    "\n",
    "What do the data types tell you about the variable types?\n",
    "\n",
    "**ANSWER: (click here to edit)**\n",
    "\n",
    "\n",
    "<hr>"
   ]
  },
  {
   "cell_type": "markdown",
   "metadata": {},
   "source": [
    "**QUESTION:**\n",
    "\n",
    "Suppose the students who coded this data made mistakes with Size, so some `small` were coded as `medium` and some `medium` as `large`. \n",
    "Would that affect reliability, validity, or both?\n",
    "\n",
    "**ANSWER: (click here to edit)**\n",
    "\n",
    "\n",
    "<hr>"
   ]
  },
  {
   "cell_type": "markdown",
   "metadata": {},
   "source": [
    "**QUESTION:**\n",
    "\n",
    "Suppose someone made a mistake preparing the data and typed a row like this:\n",
    "\n",
    "`0100.png,,unicolor,rounded,medium`\n",
    "\n",
    "What do you think would happen?\n",
    "\n",
    "**ANSWER: (click here to edit)**\n",
    "\n",
    "\n",
    "<hr>"
   ]
  },
  {
   "cell_type": "code",
   "execution_count": null,
   "metadata": {},
   "outputs": [],
   "source": []
  }
 ],
 "metadata": {
  "kernelspec": {
   "display_name": "xpython [conda env:root] *",
   "language": "python",
   "name": "conda-root-xpython"
  },
  "language_info": {
   "file_extension": ".py",
   "mimetype": "text/x-python",
   "name": "python",
   "version": "3.7.6"
  }
 },
 "nbformat": 4,
 "nbformat_minor": 4
}
