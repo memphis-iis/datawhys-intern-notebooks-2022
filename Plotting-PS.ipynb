{
 "cells": [
  {
   "cell_type": "markdown",
   "metadata": {},
   "source": [
    "Copyright 2020 Andrew M. Olney and made available under [CC BY-SA](https://creativecommons.org/licenses/by-sa/4.0) for text and [Apache-2.0](http://www.apache.org/licenses/LICENSE-2.0) for code.\n"
   ]
  },
  {
   "cell_type": "markdown",
   "metadata": {},
   "source": [
    "# Plotting: Problem solving\n",
    "\n",
    "# NOTE THIS IS UNFINISHED\n",
    "\n",
    "- Basically a copy of Tasha's first part\n",
    "- Below that is some live stuff I did in the open problem solving, which was more like tutoring that day\n",
    "\n",
    "-------------------------"
   ]
  },
  {
   "cell_type": "markdown",
   "metadata": {
    "deletable": false,
    "editable": false
   },
   "source": [
    "In this exercise we will look at some other kinds of plots using `plotly`, continuing with the `iris` dataset.\n",
    "\n",
    "- Bar chart\n",
    "- Histograms"
   ]
  },
  {
   "cell_type": "markdown",
   "metadata": {},
   "source": [
    "## Plotly"
   ]
  },
  {
   "cell_type": "markdown",
   "metadata": {},
   "source": [
    "To use <tt>plotly</tt>, \n",
    "\n",
    "- `import plotly.express` as `px`"
   ]
  },
  {
   "cell_type": "code",
   "execution_count": 1,
   "metadata": {},
   "outputs": [],
   "source": []
  },
  {
   "cell_type": "markdown",
   "metadata": {},
   "source": [
    "<!-- We will cover plotting and reading the following data visualizations in `plotly`:\n",
    "\n",
    "- scatter plots \n",
    "- line graphs\n",
    "- bar charts\n",
    "- box plots\n",
    "- plots for distributions (histograms and density plots)\n",
    "\n",
    "We will specifically use the `plotly.express` library for quick and easy plotting. \n",
    "\n",
    "Keep in mind: some of the same plots can be done `plotly.graph_objs` and `plotly.figure_factory`. These libraries also allow for additional (and more complicated) plots or have additional flexibility.  -->"
   ]
  },
  {
   "cell_type": "markdown",
   "metadata": {},
   "source": [
    "## Iris Data"
   ]
  },
  {
   "cell_type": "markdown",
   "metadata": {},
   "source": [
    "To start to evaluate data, we need data. \n",
    "The `iris.csv` dataset contains data on iris flowers.\n",
    "It contains 5 variables:\n",
    "\n",
    "- `SepalLength`: the sepal length (cm)\n",
    "- `SepalWidth`: the sepal width (cm)\n",
    "- `PetalLength`: the petal length (cm)\n",
    "- `PetalWidth`: the petal width (cm)\n",
    "- `Species`: the flower species (cm)\n",
    "\n",
    "We will need to load this into a dataframe.\n",
    "\n",
    "- `import pandas` as `pd`"
   ]
  },
  {
   "cell_type": "code",
   "execution_count": 2,
   "metadata": {},
   "outputs": [],
   "source": []
  },
  {
   "cell_type": "markdown",
   "metadata": {},
   "source": [
    "Now we need to read the dataset into the dataframe\n",
    "\n",
    "- Create variable `dta_iris`\n",
    "- Set it to `with pd do read_csv` using `datasets/iris.csv`\n",
    "\n",
    "**Remember the `with ... do` block is in VARIABLES**"
   ]
  },
  {
   "cell_type": "code",
   "execution_count": 3,
   "metadata": {},
   "outputs": [],
   "source": []
  },
  {
   "cell_type": "markdown",
   "metadata": {},
   "source": [
    "## Bar plots\n",
    "\n",
    "A simple bar plot in `plotly.express` has three arguments:\n"
   ]
  },
  {
   "cell_type": "markdown",
   "metadata": {},
   "source": [
    "We're going to create a figure `fig_iris` using the function `scatter` in `plotly.express`.\n",
    "\n",
    "Follow these steps:\n",
    "\n",
    "- Create a variable `fig_iris`\n",
    "- Get a `with px do scatter using` block\n",
    "- Inside that block put a `create list with` block, and inside that block put\n",
    "    - `dta_iris` (from VARIABLES)\n",
    "    - a freestyle block with `x=\"SepalWidth\"` in it\n",
    "    - a freestule block with `y=\"SepalLength\"` in it"
   ]
  },
  {
   "cell_type": "code",
   "execution_count": 12,
   "metadata": {},
   "outputs": [],
   "source": []
  },
  {
   "cell_type": "markdown",
   "metadata": {},
   "source": [
    "It did not display! Why? Use the fuction `show` to display the scatter plot of the relationship between sepal width and sepal length.\n",
    "\n",
    "- `with fig_iris do show`\n",
    "\n",
    "**It may take ~ 10 seconds for the block to create the dropdown and a similary amount of time for the plot to display.**"
   ]
  },
  {
   "cell_type": "code",
   "execution_count": 13,
   "metadata": {},
   "outputs": [],
   "source": []
  },
  {
   "cell_type": "markdown",
   "metadata": {},
   "source": [
    "Our first plot! Basic, but provides an initial visualization to evaluate our question: is there are relationship between sepal width and sepal length?\n",
    "\n",
    "We can see the plot has some interactive features displayed in the top right corner. These tools may be useful but the topic is tabled for later discussion. \n",
    "\n",
    "Without these tools, we are still interested in improving the visualization. But how? We can improve these visualizations with <b>better display of the graphic</b> or <b>deeper evaluation of the pattern</b>."
   ]
  },
  {
   "cell_type": "markdown",
   "metadata": {},
   "source": [
    "#### better display of the graphic"
   ]
  },
  {
   "cell_type": "markdown",
   "metadata": {},
   "source": [
    "A better display of the graphic means adding more freestyle blocks to the list with the following:\n",
    "    \n",
    "- the title  \n",
    "\n",
    "`title = \"Your Title\"`\n",
    "- the axis labels  \n",
    "\n",
    "`labels = {'XVar':'Label for XVar','XVar':'Label for XVar'}`\n",
    "- the template from options `plotly`, `plotly_white`, `plotly_dark`, `ggplot2`, `seaborn`, `simple_white`, and `none`\n",
    "\n",
    "`template = \"Your Template\"` \n",
    "- the color scheme from color options <a href=\"https://plotly.com/python/discrete-color/#color-sequences-in-plotly-express\" target=\"_top\">here</a>\n",
    "\n",
    "`color_discrete_sequence=px.colors.qualitative.YOUR_SCHEME`\n",
    "- and others\n",
    "\n",
    "See the documentation of the possible arguments for <a href=\"https://plotly.com/python-api-reference/generated/plotly.express.scatter.html\" target=\"_top\">`scatter`</a> in `plotly`."
   ]
  },
  {
   "cell_type": "markdown",
   "metadata": {},
   "source": [
    "Create a new figure by improving the display of the graphic called `fig_iris_better`:\n",
    "\n",
    "- Copy the `with px do scatter` block (and contents) from above and paste it into the code cell below\n",
    "- Create a variable `fig_iris_better` and connect it to the `with px do scatter` block\n",
    "- Expand the list using the gear icon and add the following freestyle blocks:\n",
    "    - `title_text=\"Relationship between Sepal Length and Sepal Width\"`\n",
    "    - `labels = {'SepalWidth':'Sepal Width (cm)', 'SepalLength':'Sepal Length (cm)'}`\n",
    "    - `template = \"simple_white\"`\n",
    "    - `color_discrete_sequence=px.colors.qualitative.Antique`"
   ]
  },
  {
   "cell_type": "code",
   "execution_count": 14,
   "metadata": {},
   "outputs": [],
   "source": []
  },
  {
   "cell_type": "markdown",
   "metadata": {},
   "source": [
    "As before, we need to show the figure:\n",
    "\n",
    "- `with fig_iris_better do show`"
   ]
  },
  {
   "cell_type": "code",
   "execution_count": 15,
   "metadata": {},
   "outputs": [],
   "source": []
  },
  {
   "cell_type": "markdown",
   "metadata": {},
   "source": [
    "------------------------------------------"
   ]
  },
  {
   "cell_type": "code",
   "execution_count": 1,
   "metadata": {},
   "outputs": [],
   "source": []
  },
  {
   "cell_type": "code",
   "execution_count": 2,
   "metadata": {},
   "outputs": [],
   "source": []
  },
  {
   "cell_type": "code",
   "execution_count": 7,
   "metadata": {},
   "outputs": [],
   "source": []
  },
  {
   "cell_type": "markdown",
   "metadata": {},
   "source": [
    "# Note this seems sub optimal: it is the sum of the data rather than the mean; it may work OK here because each class is equally represented"
   ]
  },
  {
   "cell_type": "code",
   "execution_count": 8,
   "metadata": {},
   "outputs": [],
   "source": []
  },
  {
   "cell_type": "code",
   "execution_count": 11,
   "metadata": {},
   "outputs": [],
   "source": []
  },
  {
   "cell_type": "code",
   "execution_count": 10,
   "metadata": {},
   "outputs": [],
   "source": []
  },
  {
   "cell_type": "code",
   "execution_count": null,
   "metadata": {},
   "outputs": [],
   "source": []
  }
 ],
 "metadata": {
  "kernelspec": {
   "display_name": "xpython",
   "language": "python",
   "name": "xpython"
  },
  "language_info": {
   "file_extension": ".py",
   "mimetype": "text/x-python",
   "name": "python",
   "version": "3.7.6"
  }
 },
 "nbformat": 4,
 "nbformat_minor": 4
}
